{
 "cells": [
  {
   "cell_type": "markdown",
   "metadata": {},
   "source": [
    "# Otázky\n",
    "\n",
    "1. když provedu `single_correction`, mám vrátit tu korekci a pak teprve\n",
    " updatovat hyperparametry? Dává to smysl, jinak by vyšlo několikrát to samé..."
   ]
  },
  {
   "cell_type": "code",
   "execution_count": 1,
   "metadata": {},
   "outputs": [],
   "source": [
    "import numpy as np\n",
    "import common\n",
    "from exp_family import update_IW, init_IW_hyp, get_IW_pars_from_hyp\n",
    "import exp_family"
   ]
  },
  {
   "cell_type": "code",
   "execution_count": 2,
   "metadata": {},
   "outputs": [],
   "source": [
    "def single_correction(measurement):\n",
    "    \"\"\"\n",
    "    Performs a single correction based on a single measurement.\n",
    "    \"\"\"\n",
    "    return xikk\n",
    "\n",
    "#master = Master(nodes)\n",
    "#...\n",
    "def node_loop():\n",
    "    measurement = perform_measurement()\n",
    "    y, P, R, hyp_P, hyp_R = single_correction(measurement)\n",
    "    new_hyp_P, new_hyp_R = master.update_with_isclose(self) #master.update_with_neighbourghs()"
   ]
  },
  {
   "cell_type": "code",
   "execution_count": 3,
   "metadata": {},
   "outputs": [],
   "source": [
    "from typing import Tuple\n",
    "from collections import defaultdict"
   ]
  },
  {
   "cell_type": "code",
   "execution_count": 4,
   "metadata": {},
   "outputs": [],
   "source": [
    "Matrix = np.ndarray\n",
    "MultiShape = np.ndarray\n",
    "Scalar = np.number\n",
    "Vector = np.ndarray\n",
    "\n",
    "class IWPrior:\n",
    "    hp: MultiShape = None\n",
    "    p: Scalar = None\n",
    "    \n",
    "    def __init__(self, nu: Scalar, psi: Matrix):\n",
    "        self.p = psi.shape[0]\n",
    "        self.hp = np.array([\n",
    "            -0.5 * psi, \n",
    "            -0.5 * (nu + self.p + 1)\n",
    "        ])\n",
    "    \n",
    "    @property\n",
    "    def psi(self) -> Matrix:\n",
    "        return -2 * self.hp[0]\n",
    "    \n",
    "    @property\n",
    "    def nu(self) -> Scalar:\n",
    "        return -2 * self.hp[1] - self.p - 1\n",
    "    \n",
    "    def expect(self):\n",
    "        return self.psi / (self.nu - self.p - 1)\n",
    "    \n",
    "class MeasurementNode:\n",
    "    P_prior: IWPrior = None\n",
    "    R_prior: IWPrior = None\n",
    "    F: Matrix = None\n",
    "    Q: Matrix = None\n",
    "    last_state: Vector = None\n",
    "        \n",
    "    logger = defaultdict(list)\n",
    "    \n",
    "    def __init__(self,\n",
    "                 x: Vector,\n",
    "                 P_prior: IWPrior,\n",
    "                 R_prior: IWPrior,\n",
    "                 F: Matrix,\n",
    "                 Q: Matrix,\n",
    "                 H: Matrix,\n",
    "                 rho: Scalar,\n",
    "                 tau: Scalar,\n",
    "                 N = 10,\n",
    "                ):\n",
    "        self.last_state = x\n",
    "        self.P_prior = P_prior\n",
    "        self.R_prior = R_prior\n",
    "        self.F = F\n",
    "        self.Q = Q\n",
    "        self.H = H\n",
    "        self.rho = rho\n",
    "        self.tau = tau\n",
    "        \n",
    "        self.P = self.P_prior.expect()\n",
    "        \n",
    "    def predict_state(self) -> Tuple[Vector, Matrix]:\n",
    "        return common.time_update(self.last_state, self.P, self.F, self.Q)\n",
    "    \n",
    "    def single_update(self, state_prediction, P_prediction, measurement,\n",
    "                     init_hyp_P, init_hyp_R):\n",
    "        x = state_prediction\n",
    "        P = P_prediction\n",
    "        for i in range(N):\n",
    "            R, hyp_R = update_IW(init_hyp_R, \n",
    "                                 measurement, \n",
    "                                 self.H @ x, \n",
    "                                 self.H @ P @ self.H.T)\n",
    "            P, hyp_P = update_IW(init_hyp_P, x, state_prediction, P)\n",
    "            P, x = common.kalman_correction(H, P, R, state_prediction, measurement)\n",
    "                        \n",
    "        self.last_state = x\n",
    "        self.P = P\n",
    "        self.P_prior.hp = hyp_P\n",
    "        self.R_prior.hp = hyp_R\n",
    "        return x, P\n",
    "    \n",
    "    def _init_hyp_P(self):\n",
    "        init = exp_family.init_P_hyp(self.tau, self.P)\n",
    "        return self.P_prior.hp + init\n",
    "    \n",
    "    \n",
    "    def _init_hyp_R(self):\n",
    "        init = exp_family.init_R_hyp(self.rho, self.R_prior.psi, self.R_prior.nu)\n",
    "        return self.R_prior.hp + init\n",
    "    \n",
    "    \n",
    "    def single_kf(self, measurement):\n",
    "        x_predicted, P_predicted = self.predict_state()\n",
    "        init_hyp_P = self._init_hyp_P()\n",
    "        init_hyp_R = self._init_hyp_R()\n",
    "        return self.single_update(x_predicted, P_predicted, measurement,\n",
    "                                  init_hyp_P, init_hyp_R)\n",
    "        \n",
    "    def log(self, key, val):\n",
    "        self.logger[key].append(val)"
   ]
  },
  {
   "cell_type": "code",
   "execution_count": 5,
   "metadata": {},
   "outputs": [],
   "source": [
    "def node_factory(x, P, u, U, F, Q, H, rho, tau):\n",
    "    P_p = IWPrior(P.shape[0] + tau + 1, tau * P)\n",
    "    R_p = IWPrior(u, U)    \n",
    "    return MeasurementNode(x, P_p, R_p, F, Q, H, rho, tau)"
   ]
  },
  {
   "cell_type": "code",
   "execution_count": 6,
   "metadata": {},
   "outputs": [],
   "source": [
    "traj, xk, P, tau, rho, u, U, H, F, Q, N = common.init_all()"
   ]
  },
  {
   "cell_type": "code",
   "execution_count": 7,
   "metadata": {},
   "outputs": [],
   "source": [
    "m1 = node_factory(xk, P, u, U, F, Q, H, rho, tau)\n",
    "m2 = node_factory(xk, P, u, U, F, Q, H, rho, tau)"
   ]
  },
  {
   "cell_type": "code",
   "execution_count": 15,
   "metadata": {},
   "outputs": [
    {
     "data": {
      "text/plain": [
       "(array([-0.17392499,  1.21671945,  1.        ,  1.        ]),\n",
       " array([[ 1.28334377e+00, -1.47633243e-05,  2.50774573e+00,\n",
       "         -9.82710936e-12],\n",
       "        [-1.47633243e-05,  1.28339498e+00, -9.82710744e-12,\n",
       "          2.50774573e+00],\n",
       "        [ 2.50774573e+00, -9.82710744e-12,  2.52774573e+01,\n",
       "         -9.93629648e-11],\n",
       "        [-9.82710936e-12,  2.50774573e+00, -9.93629648e-11,\n",
       "          2.52774573e+01]]))"
      ]
     },
     "execution_count": 15,
     "metadata": {},
     "output_type": "execute_result"
    }
   ],
   "source": [
    "m1.predict_state()"
   ]
  },
  {
   "cell_type": "code",
   "execution_count": 16,
   "metadata": {},
   "outputs": [],
   "source": [
    "y = traj.Y.T[0]"
   ]
  },
  {
   "cell_type": "code",
   "execution_count": 17,
   "metadata": {},
   "outputs": [],
   "source": [
    "#%pdb"
   ]
  },
  {
   "cell_type": "code",
   "execution_count": 18,
   "metadata": {},
   "outputs": [
    {
     "data": {
      "text/plain": [
       "(array([-0.27553119,  1.11511578,  1.        ,  1.        ]),\n",
       " array([[ 6.33458074e-01, -6.02265309e-06, -3.55636296e-14,\n",
       "          6.69548919e-14],\n",
       "        [-6.02265309e-06,  6.33478236e-01,  6.69556057e-14,\n",
       "         -1.87121905e-13],\n",
       "        [-3.55636296e-14,  6.69556057e-14,  2.19158552e+01,\n",
       "         -8.75333527e-11],\n",
       "        [ 6.69548919e-14, -1.87121905e-13, -8.75333527e-11,\n",
       "          2.19158552e+01]]))"
      ]
     },
     "execution_count": 18,
     "metadata": {},
     "output_type": "execute_result"
    }
   ],
   "source": [
    "m1.single_kf(y)"
   ]
  },
  {
   "cell_type": "code",
   "execution_count": 20,
   "metadata": {
    "scrolled": true
   },
   "outputs": [],
   "source": [
    "t = 0\n",
    "x_log = []\n",
    "P_log = []\n",
    "for zk in traj.Y.T:\n",
    "    #print('===== Step: ', t, '======') \n",
    "    t += 1\n",
    "    \n",
    "    #### Time update\n",
    "    # xkl\n",
    "    xk = common.predict_state(F, xk)  # xll\n",
    "    # Pkl\n",
    "    P = common.predict_PECM(F, P, Q)  # Pll\n",
    "    \n",
    "    #### Measurement update\n",
    "    ## Initialization - step 3\n",
    "    # Pikk\n",
    "    Pik = P\n",
    "    # xikk\n",
    "    xikk = xk\n",
    "    \n",
    "    # tkl, Tkl, ukl, Ukl \n",
    "    #_, _, ukl, Ukl = common.init(P, tau, P.shape[0], rho, u, U.shape[0], U)\n",
    "    \n",
    "    #hyp_P = np.array(init_IW_hyp(Tkk, tkk))\n",
    "    #print(hyp_P)\n",
    "    hyp_P = np.array([\n",
    "        -0.5 * tau * P,\n",
    "        -0.5 * tau - 1 - P.shape[0]\n",
    "    ])\n",
    "    #print(np.isclose(hyp_P[1], new_p[1]))#.all().all())\n",
    "    hyp_P_prev = hyp_P.copy()\n",
    "    \n",
    "    hyp_R = np.array([\n",
    "        rho * hyp_R[0],\n",
    "        -0.5 * ((rho * (-2 * hyp_R[1] - hyp_R[0].shape[0] - 1) ) + hyp_R[0].shape[0] + 1)\n",
    "    ])\n",
    "\n",
    "    #hyp_R = init_IW_hyp(Ukl, ukl)\n",
    "    hyp_R_prev = hyp_R.copy()\n",
    "    #print(hyp_R[0], new_r[0])\n",
    "    #print(np.isclose(hyp_R[0], new_r[0]).all().all())\n",
    "    #print(hyp_R[1] - new_r[1])\n",
    "    \n",
    "    ## END of Initialization - step 3\n",
    "    \n",
    "    ## VB iters\n",
    "    for i in range(N):\n",
    "        Rjk, hyp_R = update_IW(hyp_R_prev, zk, H @ xikk, H @ Pik @ H.T)\n",
    "        Pjkl, hyp_P = update_IW(hyp_P_prev, xikk, xk, Pik)\n",
    "        # Pjkk, xjkk\n",
    "        Pik, xikk = common.kalman_correction(H, Pjkl, Rjk, xk, zk)\n",
    "    \n",
    "    # Assignment - step 13\n",
    "    # xkk\n",
    "    xk = xikk\n",
    "    # Pkk\n",
    "    P = Pik\n",
    "    # ukk, Ukk\n",
    "    U, u = get_IW_pars_from_hyp(hyp_R)\n",
    "    \n",
    "    x_log.append(xk)\n",
    "    P_log.append(P)\n",
    "    \n",
    "x_log = np.array(x_log).squeeze().T\n",
    "P_log = np.array(P_log).squeeze()"
   ]
  },
  {
   "cell_type": "code",
   "execution_count": 21,
   "metadata": {},
   "outputs": [
    {
     "data": {
      "text/plain": [
       "(0.4608634981693899, 0.7668096325216082)"
      ]
     },
     "execution_count": 21,
     "metadata": {},
     "output_type": "execute_result"
    }
   ],
   "source": [
    "# KF, just measurements\n",
    "np.sqrt(((x_log[:2] - traj.X[:2]) ** 2 ).mean()), np.sqrt(((traj.Y[:2] - traj.X[:2]) ** 2 ).mean())"
   ]
  },
  {
   "cell_type": "code",
   "execution_count": 22,
   "metadata": {},
   "outputs": [
    {
     "data": {
      "text/plain": [
       "1.2353960171632807"
      ]
     },
     "execution_count": 22,
     "metadata": {},
     "output_type": "execute_result"
    }
   ],
   "source": [
    "# velocity: KF\n",
    "np.sqrt(((x_log[2:] - traj.X[2:]) ** 2 ).mean())"
   ]
  },
  {
   "cell_type": "code",
   "execution_count": null,
   "metadata": {},
   "outputs": [],
   "source": [
    "common.plot_results(traj, x_log)"
   ]
  },
  {
   "cell_type": "code",
   "execution_count": null,
   "metadata": {},
   "outputs": [],
   "source": []
  }
 ],
 "metadata": {
  "kernelspec": {
   "display_name": "kalman",
   "language": "python",
   "name": "kalman"
  },
  "language_info": {
   "codemirror_mode": {
    "name": "ipython",
    "version": 3
   },
   "file_extension": ".py",
   "mimetype": "text/x-python",
   "name": "python",
   "nbconvert_exporter": "python",
   "pygments_lexer": "ipython3",
   "version": "3.6.4"
  }
 },
 "nbformat": 4,
 "nbformat_minor": 2
}
