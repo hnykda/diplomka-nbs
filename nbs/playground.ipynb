{
 "cells": [
  {
   "cell_type": "code",
   "execution_count": 2,
   "metadata": {},
   "outputs": [],
   "source": [
    "%load_ext autoreload\n",
    "%autoreload 2"
   ]
  },
  {
   "cell_type": "code",
   "execution_count": 8,
   "metadata": {},
   "outputs": [],
   "source": [
    "from kfsims.common import init_all, init_trajectory"
   ]
  },
  {
   "cell_type": "code",
   "execution_count": 12,
   "metadata": {},
   "outputs": [],
   "source": [
    "#from trajectory import trajectory\n",
    "from vbkf.vb_update import *\n",
    "\n",
    "#traj = trajectory(ndat=300)\n",
    "#traj.R = 5 * np.eye(2)\n",
    "#traj._simulate()\n",
    "traj = init_trajectory(300)\n",
    "\n",
    "\n",
    "xk = np.array([0, 0, 1, 1])\n",
    "P = 100 * np.eye(4)\n",
    "tau = 5\n",
    "n = 4\n",
    "rho = .99\n",
    "\n",
    "u = 13\n",
    "m = 2\n",
    "U = 2*traj.R * (u - m - 1)\n",
    "\n",
    "H = traj.H\n",
    "F = traj.A\n",
    "Q = 2 * traj.Q\n",
    "N = 20"
   ]
  },
  {
   "cell_type": "code",
   "execution_count": 13,
   "metadata": {},
   "outputs": [
    {
     "name": "stdout",
     "output_type": "stream",
     "text": [
      "[1.18015922 0.9639272  1.45376622 1.37816697]\n"
     ]
    }
   ],
   "source": [
    "t = 0\n",
    "x_log = []\n",
    "P_log = []\n",
    "for zk in traj.Y.T:\n",
    "#    print('===== Step: ', t, '======') \n",
    "    t += 1\n",
    "    \n",
    "    #### Time update\n",
    "    xk = predict_state(F, xk)\n",
    "    P = predict_PECM(F, P, Q)\n",
    "    \n",
    "    #### Measurement update\n",
    "    # Initialization - step 3\n",
    "    tkk, Tkk, ukk, Ukk = init(P, tau, n, rho, u, m, U)\n",
    "    \n",
    "    ## VB iters\n",
    "    Pik = P\n",
    "    xikk = xk\n",
    "    for i in range(N):\n",
    "        # steps 4, 5\n",
    "        err = np.atleast_2d(xikk - xk)\n",
    "        Aik = Pik + np.outer(err, err)\n",
    "        tik = tkk + 1\n",
    "        Tik = Aik + Tkk\n",
    "        \n",
    "        # steps 6, 7\n",
    "        err = np.atleast_2d(zk - H.dot(xikk))\n",
    "        Bik = err.T.dot(err) + H.dot(Pik).dot(H.T)\n",
    "        uik = ukk + 1\n",
    "        Uik = Bik + Ukk\n",
    "        \n",
    "        # steps 8\n",
    "        ERkinv = (uik - m - 1) * np.linalg.inv(Uik)\n",
    "        EPkinv = (tik - n - 1) * np.linalg.inv(Tik)\n",
    "        \n",
    "        # steps 9\n",
    "        Pik = np.linalg.inv(EPkinv)\n",
    "        Rik = np.linalg.inv(ERkinv)\n",
    "        \n",
    "        # steps 10-12\n",
    "        bracket = H.dot(Pik).dot(H.T) + Rik\n",
    "        Kik = Pik.dot(H.T).dot(np.linalg.inv(bracket))\n",
    "        xikk = xk + Kik.dot(zk - H.dot(xk))\n",
    "        Pik = Pik - Kik.dot(H).dot(Pik)\n",
    "    \n",
    "    xk = xikk\n",
    "    P = Pik\n",
    "    Tkk = Tik\n",
    "    ukk = uik\n",
    "    Ukk = Uik\n",
    "    \n",
    "    x_log.append(xk)\n",
    "    P_log.append(P)\n",
    "\n",
    "x_log = np.array(x_log).squeeze().T\n",
    "P_log = np.array(P_log).squeeze()\n",
    "\n",
    "print(np.sqrt(((x_log - traj.X)**2).mean(axis=1)))\n"
   ]
  },
  {
   "cell_type": "code",
   "execution_count": null,
   "metadata": {},
   "outputs": [],
   "source": []
  }
 ],
 "metadata": {
  "kernelspec": {
   "display_name": "kalman",
   "language": "python",
   "name": "kalman"
  },
  "language_info": {
   "codemirror_mode": {
    "name": "ipython",
    "version": 3
   },
   "file_extension": ".py",
   "mimetype": "text/x-python",
   "name": "python",
   "nbconvert_exporter": "python",
   "pygments_lexer": "ipython3",
   "version": "3.6.4"
  }
 },
 "nbformat": 4,
 "nbformat_minor": 2
}
