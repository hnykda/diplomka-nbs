{
 "cells": [
  {
   "cell_type": "code",
   "execution_count": 1,
   "metadata": {},
   "outputs": [],
   "source": [
    "%load_ext autoreload\n",
    "%autoreload 2"
   ]
  },
  {
   "cell_type": "code",
   "execution_count": 2,
   "metadata": {},
   "outputs": [],
   "source": [
    "from kfsims.node import make_simple_nodes\n",
    "from kfsims.common import init_trajectory\n",
    "import networkx as nx\n",
    "import numpy as np"
   ]
  },
  {
   "cell_type": "code",
   "execution_count": 73,
   "metadata": {},
   "outputs": [],
   "source": [
    "def create_network(n, k=5):\n",
    "    nodes = make_simple_nodes(n)\n",
    "    G_ = nx.random_regular_graph(k, len(nodes))\n",
    "    G = nx.relabel_nodes(G_, {ix: nodes[ix] for ix in range(len(nodes))})\n",
    "    G.get_by_mid = lambda x: G[[node for node in nodes if node.label == x][0]]  #G.get_by_mid('86088')\n",
    "    G.local_kf_on_all_nodes = lambda: [next(node._kf_iterator) for node in G]\n",
    "    return G\n",
    "\n",
    "def _get_neighbors_att(G, node, prior_pref):\n",
    "    \"\"\"\n",
    "    Examples:\n",
    "        _get_neighbors_att(G, node, 'P')\n",
    "        _get_neighbors_att(G, node, 'R')\n",
    "    \"\"\"\n",
    "    res = []\n",
    "    for ngh in G.neighbors(node):\n",
    "        res.append(getattr(ngh, prior_pref + '_prior').hp)\n",
    "    return res\n",
    "\n",
    "def fuse_parameters(params_):\n",
    "    params = np.array(params_)\n",
    "    r = sum(params) / len(params)\n",
    "    return r\n",
    "\n",
    "def node_neighbors_fusion_update(G, node):\n",
    "    Ps = _get_neighbors_att(G, node, 'P') + [node.P_prior.hp]\n",
    "    Rs = _get_neighbors_att(G, node, 'R') + [node.R_prior.hp]\n",
    "    new_P = fuse_parameters(Ps)\n",
    "    new_R = fuse_parameters(Rs)\n",
    "    return new_P, new_R\n",
    "\n",
    "def update_node_by_neighbors(G, node):\n",
    "    hyp_P, hyp_R = node_neighbors_fusion_update(G, node)\n",
    "    node.R_prior.hp = hyp_R\n",
    "    node.P_prior.hp = hyp_P"
   ]
  },
  {
   "cell_type": "code",
   "execution_count": 74,
   "metadata": {},
   "outputs": [],
   "source": [
    "traj = init_trajectory()"
   ]
  },
  {
   "cell_type": "code",
   "execution_count": 9,
   "metadata": {},
   "outputs": [
    {
     "data": {
      "text/plain": [
       "4.901086013012243"
      ]
     },
     "execution_count": 9,
     "metadata": {},
     "output_type": "execute_result"
    }
   ],
   "source": [
    "# tohle je blbě - musí být až co všichni provedou kalmana\n",
    "net = create_network(10)\n",
    "msrms = {node: (i for i in node.observe()) for node in net}\n",
    "rmses = []\n",
    "for i in range(traj.X.shape[1]):\n",
    "    net.local_kf_on_all_nodes()\n",
    "    \n",
    "    for node in net:\n",
    "        update_node_by_neighbors(net, node)\n",
    "        \n",
    "\n",
    "for node in net:\n",
    "    rmses.append(node.post_rmse(traj.X))\n",
    "np.mean(rmses)"
   ]
  },
  {
   "cell_type": "code",
   "execution_count": 80,
   "metadata": {},
   "outputs": [
    {
     "data": {
      "text/plain": [
       "4.995400062709271"
      ]
     },
     "execution_count": 80,
     "metadata": {},
     "output_type": "execute_result"
    }
   ],
   "source": [
    "# tohle je dle mého ono\n",
    "net = create_network(20)\n",
    "msrms = {node: (i for i in node.observe()) for node in net}\n",
    "rmses = []\n",
    "for i in range(traj.X.shape[1]):\n",
    "    for node, ms in msrms.items():\n",
    "        next(node._kf_iterator)\n",
    "\n",
    "    for node in net:\n",
    "        update_node_by_neighbors(net, node)\n",
    "        \n",
    "\n",
    "for node in net:\n",
    "    rmses.append(node.post_rmse(traj.X))\n",
    "np.mean(rmses)"
   ]
  },
  {
   "cell_type": "code",
   "execution_count": 19,
   "metadata": {},
   "outputs": [
    {
     "data": {
      "text/plain": [
       "0.48836286728942835"
      ]
     },
     "execution_count": 19,
     "metadata": {},
     "output_type": "execute_result"
    }
   ],
   "source": [
    "# tohle je dle mého ono\n",
    "net = create_network(20)\n",
    "msrms = {node: (i for i in node.observe()) for node in net}\n",
    "rmses = []\n",
    "for i in range(traj.X.shape[1]):\n",
    "    for node, ms in msrms.items():\n",
    "        m = next(ms)\n",
    "        node.single_kf(m)\n",
    "\n",
    "    for node in net:\n",
    "        update_node_by_neighbors(net, node)\n",
    "        \n",
    "\n",
    "for node in net:\n",
    "    rmses.append(node.post_rmse(traj.X))\n",
    "np.mean(rmses)"
   ]
  },
  {
   "cell_type": "markdown",
   "metadata": {},
   "source": [
    "# No fusion"
   ]
  },
  {
   "cell_type": "code",
   "execution_count": 105,
   "metadata": {},
   "outputs": [
    {
     "data": {
      "text/plain": [
       "0.48816364301045245"
      ]
     },
     "execution_count": 105,
     "metadata": {},
     "output_type": "execute_result"
    }
   ],
   "source": [
    "# no fusion\n",
    "net = create_network(20)\n",
    "msrms = {node: (i for i in node.observe()) for node in net}\n",
    "rmses = []\n",
    "for i in range(traj.X.shape[1]):\n",
    "    for node, ms in msrms.items():\n",
    "        m = next(ms)\n",
    "        node.single_kf(m)\n",
    "for node in net:\n",
    "    rmses.append(node.post_rmse(traj.X))\n",
    "np.mean(rmses)"
   ]
  },
  {
   "cell_type": "code",
   "execution_count": 97,
   "metadata": {},
   "outputs": [
    {
     "name": "stdout",
     "output_type": "stream",
     "text": [
      "0.48816364301045245\n"
     ]
    }
   ],
   "source": [
    "# all at once, should be same as the above\n",
    "net = create_network(20)\n",
    "rmses = []\n",
    "for node in net.nodes:\n",
    "    node()\n",
    "    rmses.append(node.post_rmse(traj.X))\n",
    "print(np.mean(rmses))"
   ]
  },
  {
   "cell_type": "code",
   "execution_count": null,
   "metadata": {},
   "outputs": [],
   "source": []
  }
 ],
 "metadata": {
  "kernelspec": {
   "display_name": "kalman",
   "language": "python",
   "name": "kalman"
  },
  "language_info": {
   "codemirror_mode": {
    "name": "ipython",
    "version": 3
   },
   "file_extension": ".py",
   "mimetype": "text/x-python",
   "name": "python",
   "nbconvert_exporter": "python",
   "pygments_lexer": "ipython3",
   "version": "3.6.4"
  }
 },
 "nbformat": 4,
 "nbformat_minor": 2
}
