{
 "cells": [
  {
   "cell_type": "code",
   "execution_count": 1,
   "metadata": {},
   "outputs": [],
   "source": [
    "%load_ext autoreload\n",
    "%autoreload 2"
   ]
  },
  {
   "cell_type": "code",
   "execution_count": 29,
   "metadata": {},
   "outputs": [],
   "source": [
    "from kfsims.node import make_simple_nodes\n",
    "from kfsims.common import init_trajectory"
   ]
  },
  {
   "cell_type": "code",
   "execution_count": 30,
   "metadata": {},
   "outputs": [],
   "source": [
    "traj = init_trajectory()"
   ]
  },
  {
   "cell_type": "code",
   "execution_count": 37,
   "metadata": {},
   "outputs": [
    {
     "data": {
      "text/plain": [
       "array([3.33219327, 2.56450724, 5.07836028, 4.15780198])"
      ]
     },
     "execution_count": 37,
     "metadata": {},
     "output_type": "execute_result"
    }
   ],
   "source": [
    "n = make_simple_nodes(1, iterations=5)[0]\n",
    "n()\n",
    "n.post_rmse(traj.X)"
   ]
  },
  {
   "cell_type": "code",
   "execution_count": 36,
   "metadata": {},
   "outputs": [
    {
     "data": {
      "text/plain": [
       "[array([4.55233407, 3.99687333, 6.3301344 , 6.22565458]),\n",
       " array([ 3.76759056,  3.44208927, 10.82537537,  6.73099081]),\n",
       " array([3.75266268, 3.46920405, 7.81153708, 7.53937296]),\n",
       " array([ 3.21327397,  3.13464525, 10.25404313,  4.09868284]),\n",
       " array([2.02655313, 2.27649385, 3.89904612, 5.69362907]),\n",
       " array([1.55109622, 2.3995999 , 3.36829248, 8.42030972]),\n",
       " array([ 7.11518219,  5.22432039, 11.55531738,  8.01142806]),\n",
       " array([3.01583746, 3.78535156, 6.91073524, 9.04328273]),\n",
       " array([3.63055694, 4.7049184 , 7.00559052, 9.77404345]),\n",
       " array([4.48022416, 4.64982368, 6.29533684, 6.99684704])]"
      ]
     },
     "execution_count": 36,
     "metadata": {},
     "output_type": "execute_result"
    }
   ],
   "source": [
    "pool = make_simple_nodes(10)\n",
    "[n() for n in pool]\n",
    "[n.post_rmse(traj.X) for n in pool]"
   ]
  },
  {
   "cell_type": "code",
   "execution_count": null,
   "metadata": {},
   "outputs": [],
   "source": []
  }
 ],
 "metadata": {
  "kernelspec": {
   "display_name": "kalman",
   "language": "python",
   "name": "kalman"
  },
  "language_info": {
   "codemirror_mode": {
    "name": "ipython",
    "version": 3
   },
   "file_extension": ".py",
   "mimetype": "text/x-python",
   "name": "python",
   "nbconvert_exporter": "python",
   "pygments_lexer": "ipython3",
   "version": "3.6.4"
  }
 },
 "nbformat": 4,
 "nbformat_minor": 2
}
