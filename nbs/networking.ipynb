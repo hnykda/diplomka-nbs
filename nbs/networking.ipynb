{
 "cells": [
  {
   "cell_type": "code",
   "execution_count": 1,
   "metadata": {},
   "outputs": [],
   "source": [
    "%load_ext autoreload\n",
    "%autoreload 2"
   ]
  },
  {
   "cell_type": "code",
   "execution_count": 2,
   "metadata": {},
   "outputs": [],
   "source": [
    "from kfsims.network import create_network, update_node_by_neighbors\n",
    "from kfsims.common import init_trajectory\n",
    "import numpy as np"
   ]
  },
  {
   "cell_type": "code",
   "execution_count": 3,
   "metadata": {},
   "outputs": [],
   "source": [
    "traj = init_trajectory(None)"
   ]
  },
  {
   "cell_type": "code",
   "execution_count": 9,
   "metadata": {},
   "outputs": [],
   "source": [
    "NODES = 10\n",
    "ITERATIONS = 10"
   ]
  },
  {
   "cell_type": "markdown",
   "metadata": {},
   "source": [
    "# No fusion"
   ]
  },
  {
   "cell_type": "code",
   "execution_count": 10,
   "metadata": {},
   "outputs": [],
   "source": [
    "# no fusion\n",
    "def no_fusion_step_by_step(nodes=NODES, its=ITERATIONS):\n",
    "    net = create_network(nodes, iterations=its)\n",
    "    msrms = {node: (i for i in node.observe()) for node in net}\n",
    "    rmses = []\n",
    "    for i in range(traj.X.shape[1]):\n",
    "        for node, ms in msrms.items():\n",
    "            m = next(ms)\n",
    "            node.single_kf(m)\n",
    "    for node in net:\n",
    "        rmses.append(node.post_rmse(traj.X))\n",
    "    return round(np.mean(rmses), 3)"
   ]
  },
  {
   "cell_type": "code",
   "execution_count": 11,
   "metadata": {},
   "outputs": [
    {
     "data": {
      "text/plain": [
       "6.341"
      ]
     },
     "execution_count": 11,
     "metadata": {},
     "output_type": "execute_result"
    }
   ],
   "source": [
    "no_fusion_step_by_step(10, 100)"
   ]
  },
  {
   "cell_type": "code",
   "execution_count": 12,
   "metadata": {},
   "outputs": [],
   "source": [
    "#for i in [1, 2, 5, 7, 10, 15, 20, 25, 26, 27, 28, 30, 50, 100]:\n",
    "#    for no in [7, 10, 15, 20, 25, 26, 27, 28, 30, 50, 100]:\n",
    "#        try:\n",
    "#            print (no, i, no_fusion_step_by_step(no, i))\n",
    "#        except:\n",
    "#            pass\n",
    "    #no_fusion_step_by_step()"
   ]
  },
  {
   "cell_type": "code",
   "execution_count": 18,
   "metadata": {},
   "outputs": [
    {
     "name": "stdout",
     "output_type": "stream",
     "text": [
      "1 5.329\n",
      "2 4.565\n",
      "5 5.216\n",
      "7 4.752\n",
      "10 5.365\n",
      "15 5.125\n",
      "20 4.261\n",
      "25 5.156\n",
      "26 6.323\n",
      "27 5.557\n",
      "28 5.697\n",
      "30 4.769\n",
      "50 5.708\n",
      "100 5.246\n"
     ]
    }
   ],
   "source": [
    "for i in [1, 2, 5, 7, 10, 15, 20, 25, 26, 27, 28, 30, 50, 100]:\n",
    "    print (i, no_fusion_step_by_step(NODES, i))\n",
    "#no_fusion_step_by_step()"
   ]
  },
  {
   "cell_type": "code",
   "execution_count": 13,
   "metadata": {},
   "outputs": [
    {
     "name": "stdout",
     "output_type": "stream",
     "text": [
      "1 5.95\n",
      "2 4.993\n",
      "5 5.161\n",
      "7 4.909\n",
      "10 5.906\n",
      "15 4.72\n",
      "20 5.147\n",
      "25 6.018\n",
      "26 3.94\n",
      "27 4.38\n",
      "28 5.04\n",
      "30 5.863\n",
      "50 5.592\n",
      "100 4.393\n"
     ]
    }
   ],
   "source": [
    "for i in [1, 2, 5, 7, 10, 15, 20, 25, 26, 27, 28, 30, 50, 100]:\n",
    "    print (i, no_fusion_step_by_step(NODES, i))\n",
    "#no_fusion_step_by_step()"
   ]
  },
  {
   "cell_type": "code",
   "execution_count": 14,
   "metadata": {},
   "outputs": [],
   "source": [
    "def no_fusion_all_at_once():\n",
    "    # all at once, should be approx. same as the above\n",
    "    # just a sanity check that the the step by step works\n",
    "    # as expected since it's needed in diffusion\n",
    "    net = create_network(NODES, iterations=ITERATIONS)\n",
    "    rmses = []\n",
    "    for node in net.nodes:\n",
    "        node()\n",
    "        rmses.append(node.post_rmse(traj.X))\n",
    "    return np.mean(rmses)"
   ]
  },
  {
   "cell_type": "code",
   "execution_count": 15,
   "metadata": {},
   "outputs": [
    {
     "data": {
      "text/plain": [
       "5.7932559666219685"
      ]
     },
     "execution_count": 15,
     "metadata": {},
     "output_type": "execute_result"
    }
   ],
   "source": [
    "no_fusion_all_at_once()"
   ]
  },
  {
   "cell_type": "markdown",
   "metadata": {},
   "source": [
    "# Simple diffusion "
   ]
  },
  {
   "cell_type": "code",
   "execution_count": 16,
   "metadata": {},
   "outputs": [],
   "source": [
    "def simple_diffusion():\n",
    "    net = create_network(NODES, 5, ITERATIONS)\n",
    "    msrms = {node: (i for i in node.observe()) for node in net}\n",
    "    rmses = []\n",
    "    for i in range(traj.X.shape[1]):\n",
    "\n",
    "        # proveď jeden KF loop pro každý node\n",
    "        for node, ms in msrms.items():\n",
    "            m = next(ms)\n",
    "            node.single_kf(m)\n",
    "\n",
    "        # každému nodu přiřaď průměr hyperparametrů od všech sousedů\n",
    "        for node in net:\n",
    "            update_node_by_neighbors(net, node)\n",
    "\n",
    "\n",
    "    for node in net:\n",
    "        rmses.append(node.post_rmse(traj.X))\n",
    "    return np.mean(rmses)"
   ]
  },
  {
   "cell_type": "code",
   "execution_count": 17,
   "metadata": {},
   "outputs": [
    {
     "data": {
      "text/plain": [
       "6.08748947967541"
      ]
     },
     "execution_count": 17,
     "metadata": {},
     "output_type": "execute_result"
    }
   ],
   "source": [
    "simple_diffusion()"
   ]
  },
  {
   "cell_type": "code",
   "execution_count": null,
   "metadata": {},
   "outputs": [],
   "source": []
  }
 ],
 "metadata": {
  "kernelspec": {
   "display_name": "kalman",
   "language": "python",
   "name": "kalman"
  },
  "language_info": {
   "codemirror_mode": {
    "name": "ipython",
    "version": 3
   },
   "file_extension": ".py",
   "mimetype": "text/x-python",
   "name": "python",
   "nbconvert_exporter": "python",
   "pygments_lexer": "ipython3",
   "version": "3.6.4"
  }
 },
 "nbformat": 4,
 "nbformat_minor": 2
}
