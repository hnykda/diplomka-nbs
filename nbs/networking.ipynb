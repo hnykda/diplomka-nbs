{
 "cells": [
  {
   "cell_type": "code",
   "execution_count": 1,
   "metadata": {},
   "outputs": [],
   "source": [
    "%load_ext autoreload\n",
    "%autoreload 2"
   ]
  },
  {
   "cell_type": "code",
   "execution_count": 2,
   "metadata": {},
   "outputs": [],
   "source": [
    "from kfsims.network import create_network, update_nodes_neighbors_cluster\n",
    "from kfsims.common import init_trajectory\n",
    "import numpy as np"
   ]
  },
  {
   "cell_type": "code",
   "execution_count": 3,
   "metadata": {},
   "outputs": [],
   "source": [
    "traj = init_trajectory()"
   ]
  },
  {
   "cell_type": "code",
   "execution_count": 4,
   "metadata": {},
   "outputs": [],
   "source": [
    "NODES = 10\n",
    "ITERATIONS = 10"
   ]
  },
  {
   "cell_type": "markdown",
   "metadata": {},
   "source": [
    "# No fusion"
   ]
  },
  {
   "cell_type": "code",
   "execution_count": 5,
   "metadata": {},
   "outputs": [],
   "source": [
    "# no fusion\n",
    "def no_fusion_step_by_step(nodes=NODES, its=ITERATIONS):\n",
    "    net = create_network(nodes, iterations=its)\n",
    "    msrms = {node: (i for i in node.observe()) for node in net}\n",
    "    rmses = []\n",
    "    for i in range(traj.X.shape[1]):\n",
    "        for node, ms in msrms.items():\n",
    "            m = next(ms)\n",
    "            node.single_kf(m)\n",
    "    for node in net:\n",
    "        rmses.append(node.post_rmse(traj.X))\n",
    "    return round(np.mean(rmses), 3)"
   ]
  },
  {
   "cell_type": "code",
   "execution_count": 6,
   "metadata": {},
   "outputs": [
    {
     "data": {
      "text/plain": [
       "2.565"
      ]
     },
     "execution_count": 6,
     "metadata": {},
     "output_type": "execute_result"
    }
   ],
   "source": [
    "no_fusion_step_by_step()"
   ]
  },
  {
   "cell_type": "code",
   "execution_count": 7,
   "metadata": {},
   "outputs": [],
   "source": [
    "#for i in [1, 2, 5, 7, 10, 15, 20, 25, 26, 27, 28, 30, 50, 100]:\n",
    "#    for no in [7, 10, 15, 20, 25, 26, 27, 28, 30, 50, 100]:\n",
    "#        try:\n",
    "#            print (no, i, no_fusion_step_by_step(no, i))\n",
    "#        except:\n",
    "#            pass\n",
    "    #no_fusion_step_by_step()"
   ]
  },
  {
   "cell_type": "code",
   "execution_count": 8,
   "metadata": {},
   "outputs": [],
   "source": [
    "#for i in [5, 10, 20, 50, 100]:\n",
    "#    print(i, no_fusion_step_by_step(NODES, i))\n",
    "#no_fusion_step_by_step()"
   ]
  },
  {
   "cell_type": "code",
   "execution_count": 9,
   "metadata": {},
   "outputs": [],
   "source": [
    "def no_fusion_all_at_once():\n",
    "    # all at once, should be approx. same as the above\n",
    "    # just a sanity check that the the step by step works\n",
    "    # as expected since it's needed in diffusion\n",
    "    net = create_network(NODES, iterations=ITERATIONS)\n",
    "    rmses = []\n",
    "    for node in net.nodes:\n",
    "        node()\n",
    "        rmses.append(node.post_rmse(traj.X))\n",
    "    return round(np.mean(rmses), 3)"
   ]
  },
  {
   "cell_type": "code",
   "execution_count": 10,
   "metadata": {},
   "outputs": [
    {
     "data": {
      "text/plain": [
       "2.565"
      ]
     },
     "execution_count": 10,
     "metadata": {},
     "output_type": "execute_result"
    }
   ],
   "source": [
    "no_fusion_all_at_once()"
   ]
  },
  {
   "cell_type": "markdown",
   "metadata": {},
   "source": [
    "# Simple diffusion "
   ]
  },
  {
   "cell_type": "code",
   "execution_count": 11,
   "metadata": {},
   "outputs": [],
   "source": [
    "def simple_diffusion():\n",
    "    net = create_network(NODES, 5, ITERATIONS)\n",
    "    msrms = {node: (i for i in node.observe()) for node in net}\n",
    "    rmses = []\n",
    "    for i in range(traj.X.shape[1]):\n",
    "\n",
    "        # proveď jeden KF loop pro každý node\n",
    "        for node, ms in msrms.items():\n",
    "            m = next(ms)\n",
    "            node.single_kf(m)\n",
    "\n",
    "        # každému nodu přiřaď průměr hyperparametrů od všech sousedů\n",
    "        in_queue = set(net)\n",
    "        while in_queue:\n",
    "            in_queue -= update_nodes_neighbors_cluster(net, in_queue.pop())\n",
    "\n",
    "    for node in net:\n",
    "        rmses.append(node.post_rmse(traj.X))\n",
    "    return round(np.mean(rmses), 3)"
   ]
  },
  {
   "cell_type": "code",
   "execution_count": 12,
   "metadata": {},
   "outputs": [
    {
     "data": {
      "text/plain": [
       "2.35"
      ]
     },
     "execution_count": 12,
     "metadata": {},
     "output_type": "execute_result"
    }
   ],
   "source": [
    "simple_diffusion()"
   ]
  },
  {
   "cell_type": "code",
   "execution_count": null,
   "metadata": {},
   "outputs": [],
   "source": []
  }
 ],
 "metadata": {
  "kernelspec": {
   "display_name": "kalman",
   "language": "python",
   "name": "kalman"
  },
  "language_info": {
   "codemirror_mode": {
    "name": "ipython",
    "version": 3
   },
   "file_extension": ".py",
   "mimetype": "text/x-python",
   "name": "python",
   "nbconvert_exporter": "python",
   "pygments_lexer": "ipython3",
   "version": "3.6.4"
  }
 },
 "nbformat": 4,
 "nbformat_minor": 2
}
