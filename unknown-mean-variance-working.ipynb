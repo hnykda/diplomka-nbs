{
 "cells": [
  {
   "cell_type": "code",
   "execution_count": 1,
   "metadata": {},
   "outputs": [],
   "source": [
    "import numpy as np\n",
    "import matplotlib.pylab as plt\n",
    "from scipy import stats\n",
    "%matplotlib inline\n",
    "\n",
    "### True data\n",
    "true_mu = 100\n",
    "true_s2 = 20\n",
    "var_vals = [\n",
    "    stats.norm.rvs(\n",
    "        loc=true_mu, \n",
    "        scale=np.sqrt(true_s2),\n",
    "        size=np.random.randint(1, 10)\n",
    "    ) for i in range(4)]"
   ]
  },
  {
   "cell_type": "code",
   "execution_count": 2,
   "metadata": {},
   "outputs": [],
   "source": [
    "N = 10  # pocet vnitrnich iteraci\n",
    "m = 20\n",
    "s2 = 2000\n",
    "a = 20\n",
    "b = 100\n",
    "\n",
    "# init \\Xi^{\\mu_i}\n",
    "hyp_mu = np.array([\n",
    "    m / s2, \n",
    "    -1 / (2 * s2)\n",
    "])\n",
    "\n",
    "# init \\Xi^{\\sigma^2_i}\n",
    "hyp_sigma2 = np.array([-b, -a-1], dtype=float)\n",
    "\n",
    "log = []"
   ]
  },
  {
   "cell_type": "code",
   "execution_count": 3,
   "metadata": {},
   "outputs": [],
   "source": [
    "def expect_sigma2(hyp_sigma2):\n",
    "    \"\"\"Expected value for inverse gamma\"\"\"\n",
    "    b = -hyp_sigma2[0]\n",
    "    a = -hyp_sigma2[1] - 1\n",
    "    # vezmu odhad E[sigma2] z invgama\n",
    "    E_sigma2 = b / (a-1)\n",
    "    return E_sigma2\n",
    "\n",
    "def expect_mu(hyp_mu):\n",
    "    \"\"\"Expected value for \\mu is equal to priot \\mu\"\"\"\n",
    "    s2 = -1 / (2 * hyp_mu[1])\n",
    "    m = hyp_mu[0] * s2\n",
    "    return [m, m**2 + s2]"
   ]
  },
  {
   "cell_type": "code",
   "execution_count": 4,
   "metadata": {},
   "outputs": [
    {
     "name": "stdout",
     "output_type": "stream",
     "text": [
      "True [m, sigma^2]\t 100 20\n",
      "Estimated [m, sigma^2]\t 101.56 20.0\n"
     ]
    }
   ],
   "source": [
    "seen_zs = np.array([])\n",
    "for z_k in var_vals:\n",
    "    seen_zs = np.append(seen_zs, z_k)\n",
    "    \n",
    "    # uvnitř iterací vždy používat estimate z předchozího z_k batche \n",
    "    hyp_mu_prev = hyp_mu\n",
    "    hyp_sigma2_prev = hyp_sigma2\n",
    "    \n",
    "    for it in range(N):\n",
    "        # vezmu odhad E[sigma2] z invgama\n",
    "        E_sigma2 = expect_sigma2(hyp_sigma2)\n",
    "        #  a pošlu ho do hustoty DAT, \n",
    "        # konkrétně ho dosadím do rce 14 za sigma2. \n",
    "        # Tím dostanu tu druhou matici se suf. stat.\n",
    "        suff_mu = np.array([\n",
    "            sum(seen_zs) / E_sigma2,\n",
    "            -len(seen_zs) / (2 * E_sigma2)\n",
    "        ])\n",
    "        # Tuto matici vezmu a pošlu do normálního rozdělení, \n",
    "        # kde ho přičtu k tomu \\Xi^{\\mu_i}.\n",
    "        hyp_mu = hyp_mu_prev + suff_mu\n",
    "        # ...Tím dostanu nové hyperparametry m a s2,...\n",
    "        # ... což mi dá nový odhad E[\\mu] a E[\\mu^2]\n",
    "        E_mu, E_mu2 = expect_mu(hyp_mu)\n",
    "        \n",
    "        #Ty vezmu a pošlu do hustoty DAT, konkrétně \n",
    "        # dosadím do druhé matice v rci 15. \n",
    "        # Tím dostanu opět suf. stat. pro přiroz. parametr [1/sigma2, log sigma2]. \n",
    "        suff_sigma2 = np.array([\n",
    "            -0.5 * ((seen_zs**2).sum() - (2*seen_zs*E_mu).sum() + seen_zs.size*E_mu2), #np.sum((seen_zs - E_mu) ** 2),\n",
    "            -0.5 * len(seen_zs)\n",
    "        ])\n",
    "                \n",
    "        # Tuto suf. stat pošlu do invgama, kde ho přičtu k tomu \\Xi^{\\sigma2}\n",
    "        hyp_sigma2 = hyp_sigma2_prev + suff_sigma2\n",
    "        \n",
    "        # Tím dostanu updatované hyperparametry invgama rozdělení \n",
    "        # a pokračuji od kroku 2 novou iterací\n",
    "        log.append([E_mu, E_sigma2])\n",
    "    \n",
    "print('True [m, sigma^2]\\t', true_mu, true_s2)\n",
    "print('Estimated [m, sigma^2]\\t', round(E_mu, 2), round(E_sigma2, 2))"
   ]
  },
  {
   "cell_type": "code",
   "execution_count": 5,
   "metadata": {},
   "outputs": [
    {
     "data": {
      "text/plain": [
       "[<matplotlib.lines.Line2D at 0x7f1bf39ac898>,\n",
       " <matplotlib.lines.Line2D at 0x7f1bf39aca90>]"
      ]
     },
     "execution_count": 5,
     "metadata": {},
     "output_type": "execute_result"
    },
    {
     "data": {
      "image/png": "[encoded data removed]",
      "text/plain": [
       "<matplotlib.figure.Figure at 0x7f1bfc2e7b70>"
      ]
     },
     "metadata": {},
     "output_type": "display_data"
    }
   ],
   "source": [
    "plt.plot(log)"
   ]
  },
  {
   "cell_type": "code",
   "execution_count": null,
   "metadata": {},
   "outputs": [],
   "source": []
  }
 ],
 "metadata": {
  "kernelspec": {
   "display_name": "Python 3",
   "language": "python",
   "name": "python3"
  },
  "language_info": {
   "codemirror_mode": {
    "name": "ipython",
    "version": 3
   },
   "file_extension": ".py",
   "mimetype": "text/x-python",
   "name": "python",
   "nbconvert_exporter": "python",
   "pygments_lexer": "ipython3",
   "version": "3.6.2"
  }
 },
 "nbformat": 4,
 "nbformat_minor": 2
}
